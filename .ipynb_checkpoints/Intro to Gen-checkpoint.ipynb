{
 "cells": [
  {
   "cell_type": "code",
   "execution_count": 1,
   "metadata": {},
   "outputs": [
    {
     "name": "stderr",
     "output_type": "stream",
     "text": [
      "┌ Info: Recompiling stale cache file C:\\Users\\omara\\.julia\\compiled\\v1.1\\Gen\\OEZG1.ji for Gen [ea4f424c-a589-11e8-07c0-fd5c91b9da4a]\n",
      "└ @ Base loading.jl:1184\n"
     ]
    }
   ],
   "source": [
    "using Gen"
   ]
  },
  {
   "cell_type": "code",
   "execution_count": 2,
   "metadata": {},
   "outputs": [
    {
     "name": "stderr",
     "output_type": "stream",
     "text": [
      "┌ Info: Precompiling PyPlot [d330b81b-6aea-500a-939a-2ce795aea3ee]\n",
      "└ @ Base loading.jl:1186\n",
      "┌ Info: Installing matplotlib via the Conda matplotlib package...\n",
      "└ @ PyCall C:\\Users\\omara\\.julia\\packages\\PyCall\\ttONZ\\src\\PyCall.jl:705\n",
      "┌ Info: Running `conda install -y matplotlib` in root environment\n",
      "└ @ Conda C:\\Users\\omara\\.julia\\packages\\Conda\\kLXeC\\src\\Conda.jl:112\n"
     ]
    },
    {
     "name": "stdout",
     "output_type": "stream",
     "text": [
      "Collecting package metadata (current_repodata.json): ...working... done\n",
      "Solving environment: ...working... done\n",
      "\n",
      "## Package Plan ##\n",
      "\n",
      "  environment location: C:\\Users\\omara\\.julia\\conda\\3\n",
      "\n",
      "  added / updated specs:\n",
      "    - matplotlib\n",
      "\n",
      "\n",
      "The following packages will be downloaded:\n",
      "\n",
      "    package                    |            build\n",
      "    ---------------------------|-----------------\n",
      "    cycler-0.10.0              |   py36h009560c_0          13 KB\n",
      "    freetype-2.9.1             |       ha9979f8_1         450 KB\n",
      "    icu-58.2                   |       ha66f8fd_1         9.4 MB\n",
      "    jpeg-9b                    |       hb83a4c4_2         245 KB\n",
      "    kiwisolver-1.1.0           |   py36ha925a31_0          53 KB\n",
      "    libpng-1.6.37              |       h2a8f88b_0         333 KB\n",
      "    matplotlib-3.1.0           |   py36hc8f65d3_0         4.9 MB\n",
      "    pyparsing-2.4.0            |             py_0          58 KB\n",
      "    pyqt-5.9.2                 |   py36h6538335_2         3.3 MB\n",
      "    python-dateutil-2.8.0      |           py36_0         266 KB\n",
      "    pytz-2019.1                |             py_0         236 KB\n",
      "    qt-5.9.7                   |   vc14h73c81de_0        72.5 MB\n",
      "    sip-4.19.8                 |   py36h6538335_0         262 KB\n",
      "    sqlite-3.29.0              |       he774522_0         962 KB\n",
      "    tornado-6.0.3              |   py36he774522_0         593 KB\n",
      "    ------------------------------------------------------------\n",
      "                                           Total:        93.4 MB\n",
      "\n",
      "The following NEW packages will be INSTALLED:\n",
      "\n",
      "  cycler             pkgs/main/win-64::cycler-0.10.0-py36h009560c_0\n",
      "  freetype           pkgs/main/win-64::freetype-2.9.1-ha9979f8_1\n",
      "  icu                pkgs/main/win-64::icu-58.2-ha66f8fd_1\n",
      "  jpeg               pkgs/main/win-64::jpeg-9b-hb83a4c4_2\n",
      "  kiwisolver         pkgs/main/win-64::kiwisolver-1.1.0-py36ha925a31_0\n",
      "  libpng             pkgs/main/win-64::libpng-1.6.37-h2a8f88b_0\n",
      "  matplotlib         pkgs/main/win-64::matplotlib-3.1.0-py36hc8f65d3_0\n",
      "  pyparsing          pkgs/main/noarch::pyparsing-2.4.0-py_0\n",
      "  pyqt               pkgs/main/win-64::pyqt-5.9.2-py36h6538335_2\n",
      "  python-dateutil    pkgs/main/win-64::python-dateutil-2.8.0-py36_0\n",
      "  pytz               pkgs/main/noarch::pytz-2019.1-py_0\n",
      "  qt                 pkgs/main/win-64::qt-5.9.7-vc14h73c81de_0\n",
      "  sip                pkgs/main/win-64::sip-4.19.8-py36h6538335_0\n",
      "  sqlite             pkgs/main/win-64::sqlite-3.29.0-he774522_0\n",
      "  tornado            pkgs/main/win-64::tornado-6.0.3-py36he774522_0\n",
      "\n",
      "\n",
      "\n",
      "Downloading and Extracting Packages\n",
      "cycler-0.10.0        | 13 KB     | ########## | 100% \n",
      "freetype-2.9.1       | 450 KB    | ########## | 100% \n",
      "pytz-2019.1          | 236 KB    | ########## | 100% \n",
      "icu-58.2             | 9.4 MB    | ########## | 100% \n",
      "sip-4.19.8           | 262 KB    | ########## | 100% \n",
      "kiwisolver-1.1.0     | 53 KB     | ########## | 100% \n",
      "pyqt-5.9.2           | 3.3 MB    | ########## | 100% \n",
      "jpeg-9b              | 245 KB    | ########## | 100% \n",
      "tornado-6.0.3        | 593 KB    | ########## | 100% \n",
      "matplotlib-3.1.0     | 4.9 MB    | ########## | 100% \n",
      "pyparsing-2.4.0      | 58 KB     | ########## | 100% \n",
      "qt-5.9.7             | 72.5 MB   | ########## | 100% \n",
      "python-dateutil-2.8. | 266 KB    | ########## | 100% \n",
      "libpng-1.6.37        | 333 KB    | ########## | 100% \n",
      "sqlite-3.29.0        | 962 KB    | ########## | 100% \n",
      "Preparing transaction: ...working... done\n",
      "Verifying transaction: ...working... done\n",
      "Executing transaction: ...working... done\n"
     ]
    }
   ],
   "source": [
    "using PyPlot"
   ]
  },
  {
   "cell_type": "code",
   "execution_count": null,
   "metadata": {},
   "outputs": [],
   "source": []
  }
 ],
 "metadata": {
  "kernelspec": {
   "display_name": "Julia 1.1.1",
   "language": "julia",
   "name": "julia-1.1"
  },
  "language_info": {
   "file_extension": ".jl",
   "mimetype": "application/julia",
   "name": "julia",
   "version": "1.1.1"
  }
 },
 "nbformat": 4,
 "nbformat_minor": 2
}
